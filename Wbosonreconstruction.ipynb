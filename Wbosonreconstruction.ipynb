{
  "nbformat": 4,
  "nbformat_minor": 0,
  "metadata": {
    "colab": {
      "name": "wre3.ipynb",
      "provenance": [],
      "collapsed_sections": [],
      "mount_file_id": "1KN4l5UIFPzcklHyfHc7lzHskcjogljjU",
      "authorship_tag": "ABX9TyMN2P3Bc4Bz/T4Hb5eLp6m2",
      "include_colab_link": true
    },
    "kernelspec": {
      "name": "python3",
      "display_name": "Python 3"
    },
    "language_info": {
      "name": "python"
    }
  },
  "cells": [
    {
      "cell_type": "markdown",
      "metadata": {
        "id": "view-in-github",
        "colab_type": "text"
      },
      "source": [
        "<a href=\"https://colab.research.google.com/github/bingjun5249/bootcamp/blob/main/Wbosonreconstruction.ipynb\" target=\"_parent\"><img src=\"https://colab.research.google.com/assets/colab-badge.svg\" alt=\"Open In Colab\"/></a>"
      ]
    },
    {
      "cell_type": "code",
      "metadata": {
        "colab": {
          "base_uri": "https://localhost:8080/"
        },
        "id": "MuQMobGAhZp9",
        "outputId": "e5c171bd-e248-4b66-8bc3-18554a235b7f"
      },
      "source": [
        "!pip install uproot3\n",
        "!pip install uproot_methods\n",
        "!pip install mplhep"
      ],
      "execution_count": null,
      "outputs": [
        {
          "output_type": "stream",
          "text": [
            "Collecting uproot3\n",
            "\u001b[?25l  Downloading https://files.pythonhosted.org/packages/9c/69/d893c6eba0dd0d8f82d841d4b85b6e63c52a1b472aec7cf7ae0efedf5a92/uproot3-3.14.4-py3-none-any.whl (117kB)\n",
            "\r\u001b[K     |██▉                             | 10kB 9.7MB/s eta 0:00:01\r\u001b[K     |█████▋                          | 20kB 15.0MB/s eta 0:00:01\r\u001b[K     |████████▍                       | 30kB 11.2MB/s eta 0:00:01\r\u001b[K     |███████████▏                    | 40kB 9.0MB/s eta 0:00:01\r\u001b[K     |██████████████                  | 51kB 7.2MB/s eta 0:00:01\r\u001b[K     |████████████████▊               | 61kB 7.3MB/s eta 0:00:01\r\u001b[K     |███████████████████▌            | 71kB 7.4MB/s eta 0:00:01\r\u001b[K     |██████████████████████▎         | 81kB 7.8MB/s eta 0:00:01\r\u001b[K     |█████████████████████████       | 92kB 7.5MB/s eta 0:00:01\r\u001b[K     |███████████████████████████▉    | 102kB 8.0MB/s eta 0:00:01\r\u001b[K     |██████████████████████████████▊ | 112kB 8.0MB/s eta 0:00:01\r\u001b[K     |████████████████████████████████| 122kB 8.0MB/s \n",
            "\u001b[?25hRequirement already satisfied: cachetools in /usr/local/lib/python3.7/dist-packages (from uproot3) (4.2.1)\n",
            "Collecting awkward0\n",
            "\u001b[?25l  Downloading https://files.pythonhosted.org/packages/9a/b3/376b258ea021eed2c9bdaa1011e0f7b25365157de472d9fae8a2443d9ff5/awkward0-0.15.5-py3-none-any.whl (87kB)\n",
            "\u001b[K     |████████████████████████████████| 92kB 5.1MB/s \n",
            "\u001b[?25hRequirement already satisfied: numpy>=1.13.1 in /usr/local/lib/python3.7/dist-packages (from uproot3) (1.19.5)\n",
            "Collecting uproot3-methods\n",
            "  Downloading https://files.pythonhosted.org/packages/3f/57/598207abeb64bf3e0af3fdc19217e56936b6bebabaac6ee270fb151790ce/uproot3_methods-0.10.1-py3-none-any.whl\n",
            "Installing collected packages: awkward0, uproot3-methods, uproot3\n",
            "Successfully installed awkward0-0.15.5 uproot3-3.14.4 uproot3-methods-0.10.1\n",
            "Collecting uproot_methods\n",
            "  Downloading https://files.pythonhosted.org/packages/b8/30/adff74a02641901dfaad01e8ad66abcf43e94fc72661ef1ee4e55a5162b5/uproot_methods-0.9.2-py3-none-any.whl\n",
            "Collecting awkward<1.0.0\n",
            "\u001b[?25l  Downloading https://files.pythonhosted.org/packages/4b/ca/322dd25b102b03a0d8fefba037358a716e7ba2117b65839479071445a617/awkward-0.14.0-py2.py3-none-any.whl (87kB)\n",
            "\u001b[K     |████████████████████████████████| 92kB 5.4MB/s \n",
            "\u001b[?25hRequirement already satisfied: numpy>=1.13.1 in /usr/local/lib/python3.7/dist-packages (from uproot_methods) (1.19.5)\n",
            "Installing collected packages: awkward, uproot-methods\n",
            "Successfully installed awkward-0.14.0 uproot-methods-0.9.2\n",
            "Collecting mplhep\n",
            "\u001b[?25l  Downloading https://files.pythonhosted.org/packages/98/48/6f0d428f371c9279065a90be953d5b35ed220d060d00ad06fe0d23fb6c75/mplhep-0.2.18-py3-none-any.whl (5.4MB)\n",
            "\u001b[K     |████████████████████████████████| 5.5MB 7.3MB/s \n",
            "\u001b[?25hRequirement already satisfied: packaging in /usr/local/lib/python3.7/dist-packages (from mplhep) (20.9)\n",
            "Requirement already satisfied: numpy>=1.16.0 in /usr/local/lib/python3.7/dist-packages (from mplhep) (1.19.5)\n",
            "Requirement already satisfied: requests~=2.21 in /usr/local/lib/python3.7/dist-packages (from mplhep) (2.23.0)\n",
            "Requirement already satisfied: matplotlib>=3.1 in /usr/local/lib/python3.7/dist-packages (from mplhep) (3.2.2)\n",
            "Requirement already satisfied: scipy>=1.1.0 in /usr/local/lib/python3.7/dist-packages (from mplhep) (1.4.1)\n",
            "Requirement already satisfied: pyparsing>=2.0.2 in /usr/local/lib/python3.7/dist-packages (from packaging->mplhep) (2.4.7)\n",
            "Requirement already satisfied: chardet<4,>=3.0.2 in /usr/local/lib/python3.7/dist-packages (from requests~=2.21->mplhep) (3.0.4)\n",
            "Requirement already satisfied: urllib3!=1.25.0,!=1.25.1,<1.26,>=1.21.1 in /usr/local/lib/python3.7/dist-packages (from requests~=2.21->mplhep) (1.24.3)\n",
            "Requirement already satisfied: idna<3,>=2.5 in /usr/local/lib/python3.7/dist-packages (from requests~=2.21->mplhep) (2.10)\n",
            "Requirement already satisfied: certifi>=2017.4.17 in /usr/local/lib/python3.7/dist-packages (from requests~=2.21->mplhep) (2020.12.5)\n",
            "Requirement already satisfied: cycler>=0.10 in /usr/local/lib/python3.7/dist-packages (from matplotlib>=3.1->mplhep) (0.10.0)\n",
            "Requirement already satisfied: kiwisolver>=1.0.1 in /usr/local/lib/python3.7/dist-packages (from matplotlib>=3.1->mplhep) (1.3.1)\n",
            "Requirement already satisfied: python-dateutil>=2.1 in /usr/local/lib/python3.7/dist-packages (from matplotlib>=3.1->mplhep) (2.8.1)\n",
            "Requirement already satisfied: six in /usr/local/lib/python3.7/dist-packages (from cycler>=0.10->matplotlib>=3.1->mplhep) (1.15.0)\n",
            "Installing collected packages: mplhep\n",
            "Successfully installed mplhep-0.2.18\n"
          ],
          "name": "stdout"
        }
      ]
    },
    {
      "cell_type": "code",
      "metadata": {
        "colab": {
          "base_uri": "https://localhost:8080/"
        },
        "id": "H9N8_v3OiLqY",
        "outputId": "322ce76f-6d1b-49d6-a0f9-f55777965aaa"
      },
      "source": [
        "from google.colab import drive\n",
        "drive.mount('/content/drive')"
      ],
      "execution_count": null,
      "outputs": [
        {
          "output_type": "stream",
          "text": [
            "Drive already mounted at /content/drive; to attempt to forcibly remount, call drive.mount(\"/content/drive\", force_remount=True).\n"
          ],
          "name": "stdout"
        }
      ]
    },
    {
      "cell_type": "code",
      "metadata": {
        "id": "9PScAVtziUme"
      },
      "source": [
        "import uproot3 as ROOT\n",
        "import uproot_methods as ROOT_methods\n",
        "import numpy as np\n",
        "import matplotlib.pyplot as plt\n",
        "from matplotlib import rc\n",
        "from matplotlib import font_manager\n",
        "import mplhep as hep"
      ],
      "execution_count": null,
      "outputs": []
    },
    {
      "cell_type": "code",
      "metadata": {
        "id": "6zg88qw4iYJO"
      },
      "source": [
        "# root파일 불러오기\n",
        "tree = ROOT.open(\"/content/drive/MyDrive/rootfiles/p p > t t~/ttbar_1l.root\")[\"Delphes\"]"
      ],
      "execution_count": null,
      "outputs": []
    },
    {
      "cell_type": "code",
      "metadata": {
        "id": "3u5JWgwgip3V"
      },
      "source": [
        "# 정보 불러오기\n",
        "elec_pt = tree[\"Electron.PT\"].array()\n",
        "elec_eta = tree[\"Electron.Eta\"].array()\n",
        "elec_phi = tree[\"Electron.Phi\"].array()\n",
        "\n",
        "met_pt = tree[\"MissingET.MET\"].array()\n",
        "met_eta = tree[\"MissingET.Eta\"].array()\n",
        "met_phi = tree[\"MissingET.Phi\"].array()"
      ],
      "execution_count": null,
      "outputs": []
    },
    {
      "cell_type": "code",
      "metadata": {
        "id": "Hr7Xsdbxizj8"
      },
      "source": [
        "# 평평하게 만들기\n",
        "met_pt = met_pt.flatten()\n",
        "met_phi = met_phi.flatten()"
      ],
      "execution_count": null,
      "outputs": []
    },
    {
      "cell_type": "code",
      "metadata": {
        "colab": {
          "base_uri": "https://localhost:8080/"
        },
        "id": "HVBhXNDKi7ZM",
        "outputId": "902abda7-8095-475a-d8a2-cf5c1a1740d4"
      },
      "source": [
        "# transverse mass 계산\n",
        "\n",
        "tvmass_elec = []\n",
        "\n",
        "for i in range(len(elec_pt)):\n",
        "  if elec_pt.counts[i] > 0:\n",
        "    tvmass_elec.append(np.sqrt(2*elec_pt[i,0]*met_pt[i]*(1. - np.cos(elec_phi[i,0]-met_phi[i]))))\n",
        "\n",
        "print(len(tvmass_elec))"
      ],
      "execution_count": null,
      "outputs": [
        {
          "output_type": "stream",
          "text": [
            "4781\n"
          ],
          "name": "stdout"
        }
      ]
    },
    {
      "cell_type": "code",
      "metadata": {
        "colab": {
          "base_uri": "https://localhost:8080/",
          "height": 283
        },
        "id": "h9-XGReHjXtL",
        "outputId": "af85f85a-a2a9-458d-ec57-76b0469a3eb8"
      },
      "source": [
        "# 히스토그램 그리기\n",
        "plt.hist(tvmass_elec, bins=150, color='blue', histtype='step', label='electron channel')\n",
        "plt.vlines(80.379,0,225,label='Wboson mass(=80.379GeV)')\n",
        "plt.xlim(0,300)\n",
        "plt.xlabel(\"M$_{T}$ [GeV]\")\n",
        "plt.ylabel(\"Events\")\n",
        "plt.legend()\n",
        "plt.show()"
      ],
      "execution_count": null,
      "outputs": [
        {
          "output_type": "display_data",
          "data": {
            "image/png": "[encoded data removed]",
            "text/plain": [
              "<Figure size 432x288 with 1 Axes>"
            ]
          },
          "metadata": {
            "tags": [],
            "needs_background": "light"
          }
        }
      ]
    },
    {
      "cell_type": "code",
      "metadata": {
        "id": "z7SoLNUnju6k"
      },
      "source": [
        ""
      ],
      "execution_count": null,
      "outputs": []
    }
  ]
}