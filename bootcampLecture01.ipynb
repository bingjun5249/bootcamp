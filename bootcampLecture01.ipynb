{
  "nbformat": 4,
  "nbformat_minor": 0,
  "metadata": {
    "colab": {
      "name": "bootcampLecture01.ipynb",
      "provenance": [],
      "collapsed_sections": [],
      "mount_file_id": "1dl8BTwysNNhNH-bwLynOfVFBU5u6Be0i",
      "authorship_tag": "ABX9TyNly4Vx3Vu+B2uW1AKVrnQa",
      "include_colab_link": true
    },
    "kernelspec": {
      "name": "python3",
      "display_name": "Python 3"
    }
  },
  "cells": [
    {
      "cell_type": "markdown",
      "metadata": {
        "id": "view-in-github",
        "colab_type": "text"
      },
      "source": [
        "<a href=\"https://colab.research.google.com/github/bingjun5249/bootcamp/blob/main/bootcampLecture01.ipynb\" target=\"_parent\"><img src=\"https://colab.research.google.com/assets/colab-badge.svg\" alt=\"Open In Colab\"/></a>"
      ]
    },
    {
      "cell_type": "code",
      "metadata": {
        "colab": {
          "base_uri": "https://localhost:8080/"
        },
        "id": "Q1CJqDjz9fSy",
        "outputId": "62727d79-1044-4660-a73a-1b12dbb6ea4e"
      },
      "source": [
        "!pip install uproot3"
      ],
      "execution_count": null,
      "outputs": [
        {
          "output_type": "stream",
          "text": [
            "Collecting uproot3\n",
            "\u001b[?25l  Downloading https://files.pythonhosted.org/packages/9c/69/d893c6eba0dd0d8f82d841d4b85b6e63c52a1b472aec7cf7ae0efedf5a92/uproot3-3.14.4-py3-none-any.whl (117kB)\n",
            "\u001b[K     |████████████████████████████████| 122kB 5.6MB/s \n",
            "\u001b[?25hCollecting awkward0\n",
            "\u001b[?25l  Downloading https://files.pythonhosted.org/packages/9a/b3/376b258ea021eed2c9bdaa1011e0f7b25365157de472d9fae8a2443d9ff5/awkward0-0.15.5-py3-none-any.whl (87kB)\n",
            "\u001b[K     |████████████████████████████████| 92kB 6.8MB/s \n",
            "\u001b[?25hRequirement already satisfied: numpy>=1.13.1 in /usr/local/lib/python3.7/dist-packages (from uproot3) (1.19.5)\n",
            "Requirement already satisfied: cachetools in /usr/local/lib/python3.7/dist-packages (from uproot3) (4.2.1)\n",
            "Collecting uproot3-methods\n",
            "  Downloading https://files.pythonhosted.org/packages/b7/bc/0cc6e815361218923dc27e8f511036d6d96ab366ea25994a89ac9ac9ba6f/uproot3_methods-0.10.0-py3-none-any.whl\n",
            "Installing collected packages: awkward0, uproot3-methods, uproot3\n",
            "Successfully installed awkward0-0.15.5 uproot3-3.14.4 uproot3-methods-0.10.0\n"
          ],
          "name": "stdout"
        }
      ]
    },
    {
      "cell_type": "code",
      "metadata": {
        "id": "f0IGVRb79mcI"
      },
      "source": [
        "import uproot3 as ROOT\r\n",
        "import uproot3_methods as ROOT_methods\r\n",
        "import numpy as np\r\n",
        "import awkward0 as ak\r\n",
        "import matplotlib.pyplot as plt\r\n",
        "from matplotlib import rc\r\n",
        "from matplotlib import font_manager\r\n",
        "#import mplhep as hep\r\n",
        "import sys"
      ],
      "execution_count": null,
      "outputs": []
    },
    {
      "cell_type": "code",
      "metadata": {
        "colab": {
          "base_uri": "https://localhost:8080/"
        },
        "id": "CMN_xLc2-XX1",
        "outputId": "9917c515-aaac-47b7-b653-474577958fde"
      },
      "source": [
        "!ls drive/MyDrive/unweighted_events.root"
      ],
      "execution_count": null,
      "outputs": [
        {
          "output_type": "stream",
          "text": [
            "drive/MyDrive/unweighted_events.root\n"
          ],
          "name": "stdout"
        }
      ]
    },
    {
      "cell_type": "code",
      "metadata": {
        "id": "NbFNZ9P297DU"
      },
      "source": [
        "tree = ROOT.open(\"drive/MyDrive/unweighted_events.root\")[\"LHEF\"]"
      ],
      "execution_count": null,
      "outputs": []
    },
    {
      "cell_type": "code",
      "metadata": {
        "id": "DHr58UaE-Bnt"
      },
      "source": [
        "pt = tree[\"Particle.PT\"].array()\r\n",
        "pid = tree[\"Particle.PID\"].array()\r\n",
        "status = tree[\"Particle.Status\"].array()"
      ],
      "execution_count": null,
      "outputs": []
    },
    {
      "cell_type": "code",
      "metadata": {
        "id": "ia2burpp_FRL",
        "colab": {
          "base_uri": "https://localhost:8080/"
        },
        "outputId": "2e3b4b44-a6af-489e-fdab-e5f5a16b099d"
      },
      "source": [
        "print(pt)\r\n",
        "print(pid)\r\n",
        "print(status)"
      ],
      "execution_count": null,
      "outputs": [
        {
          "output_type": "stream",
          "text": [
            "[[0.0 0.0 0.0 36.341984371534785 36.341984371534785] [0.0 0.0 14.690639377406585 14.690639377406585] [0.0 0.0 0.0 30.80004362191049 30.80004362191049] ... [0.0 0.0 11.066012584757207 11.066012584757207] [0.0 0.0 0.0 27.242084690087296 27.242084690087296] [0.0 0.0 0.0 36.66356318762686 36.66356318762686]]\n",
            "[[-2 2 23 -11 11] [-2 2 -11 11] [2 -2 23 -11 11] ... [-2 2 -13 13] [1 -1 23 -13 13] [-1 1 23 -11 11]]\n",
            "[[-1 -1 2 1 1] [-1 -1 1 1] [-1 -1 2 1 1] ... [-1 -1 1 1] [-1 -1 2 1 1] [-1 -1 2 1 1]]\n"
          ],
          "name": "stdout"
        }
      ]
    },
    {
      "cell_type": "code",
      "metadata": {
        "id": "-5v3hqXtZ_me"
      },
      "source": [
        "# mask : 조건식\r\n",
        "\r\n",
        "e_mask = ((pid == 11) & (status == 1)) | ((pid == -11) & (status == 1))\r\n",
        "u_mask = ((pid == 13) & (status == 1)) | ((pid == -13) & (status == 1))"
      ],
      "execution_count": null,
      "outputs": []
    },
    {
      "cell_type": "code",
      "metadata": {
        "colab": {
          "base_uri": "https://localhost:8080/"
        },
        "id": "D8pIgOlkbxjD",
        "outputId": "1f22daa7-dd56-47ac-9522-34a7fad33ef6"
      },
      "source": [
        "print(e_mask)\r\n",
        "print(u_mask)"
      ],
      "execution_count": null,
      "outputs": [
        {
          "output_type": "stream",
          "text": [
            "[[False False False True True] [False False True True] [False False False True True] ... [False False False False] [False False False False False] [False False False True True]]\n",
            "[[False False False False False] [False False False False] [False False False False False] ... [False False True True] [False False False True True] [False False False False False]]\n"
          ],
          "name": "stdout"
        }
      ]
    },
    {
      "cell_type": "code",
      "metadata": {
        "id": "m1kBGk0Ab0yD"
      },
      "source": [
        "elec_pt = pt[e_mask].flatten()\r\n",
        "muon_pt = pt[u_mask].flatten()"
      ],
      "execution_count": null,
      "outputs": []
    },
    {
      "cell_type": "code",
      "metadata": {
        "colab": {
          "base_uri": "https://localhost:8080/",
          "height": 265
        },
        "id": "muAiPTucev6W",
        "outputId": "b5e5fbfb-0f10-40cf-f08b-dfa98d5d06a7"
      },
      "source": [
        "plt.hist(elec_pt,bins=300,range=(0,300),color='blue',histtype='step')\r\n",
        "plt.hist(muon_pt,bins=300,range=(0,300),color='red',histtype='step')\r\n",
        "plt.xlim(0,300)\r\n",
        "plt.show()"
      ],
      "execution_count": null,
      "outputs": [
        {
          "output_type": "display_data",
          "data": {
            "image/png": "[encoded data removed]",
            "text/plain": [
              "<Figure size 432x288 with 1 Axes>"
            ]
          },
          "metadata": {
            "tags": [],
            "needs_background": "light"
          }
        }
      ]
    },
    {
      "cell_type": "code",
      "metadata": {
        "id": "Be2XqbOSe2Qe"
      },
      "source": [
        "phi = tree[\"Particle.Phi\"].array()"
      ],
      "execution_count": null,
      "outputs": []
    },
    {
      "cell_type": "code",
      "metadata": {
        "id": "iRM_mFygutan"
      },
      "source": [
        "elec_phi = phi[e_mask].flatten()\r\n",
        "muon_phi = phi[u_mask].flatten()"
      ],
      "execution_count": null,
      "outputs": []
    },
    {
      "cell_type": "code",
      "metadata": {
        "colab": {
          "base_uri": "https://localhost:8080/",
          "height": 269
        },
        "id": "THVjJb4Uu25G",
        "outputId": "f429eacd-76a7-414c-8464-9859ff10875e"
      },
      "source": [
        "plt.hist(elec_phi,bins=300,range=(-20,20),color='blue',histtype='step')\r\n",
        "plt.hist(muon_phi,bins=300,range=(-20,20),color='red',histtype='step')\r\n",
        "plt.xlim(-5,5)\r\n",
        "plt.show()"
      ],
      "execution_count": null,
      "outputs": [
        {
          "output_type": "display_data",
          "data": {
            "image/png": "[encoded data removed]",
            "text/plain": [
              "<Figure size 432x288 with 1 Axes>"
            ]
          },
          "metadata": {
            "tags": [],
            "needs_background": "light"
          }
        }
      ]
    },
    {
      "cell_type": "code",
      "metadata": {
        "id": "prmyAlb35QbN"
      },
      "source": [
        "mass = tree[\"Particle.M\"].array()"
      ],
      "execution_count": null,
      "outputs": []
    },
    {
      "cell_type": "code",
      "metadata": {
        "id": "pF6csWc3u6ns"
      },
      "source": [
        "a_mask = (pid == 22)\r\n",
        "z_mask = (pid == 23)"
      ],
      "execution_count": null,
      "outputs": []
    },
    {
      "cell_type": "code",
      "metadata": {
        "colab": {
          "base_uri": "https://localhost:8080/"
        },
        "id": "92Gzcsng4SrW",
        "outputId": "215601ca-63b9-4700-e20a-76ed5ff78fa8"
      },
      "source": [
        "print(a_mask)\r\n",
        "print(z_mask)"
      ],
      "execution_count": null,
      "outputs": [
        {
          "output_type": "stream",
          "text": [
            "[[False False False False False] [False False False False] [False False False False False] ... [False False False False] [False False False False False] [False False False False False]]\n",
            "[[False False True False False] [False False False False] [False False True False False] ... [False False False False] [False False True False False] [False False True False False]]\n"
          ],
          "name": "stdout"
        }
      ]
    },
    {
      "cell_type": "code",
      "metadata": {
        "colab": {
          "base_uri": "https://localhost:8080/",
          "height": 190
        },
        "id": "r8tOKnF29WCV",
        "outputId": "d5b31bba-9e1c-44e9-a35e-89e1c8356cdb"
      },
      "source": [
        "for i in range(len(a_mask)):\r\n",
        "  print(photon_m[i])"
      ],
      "execution_count": null,
      "outputs": [
        {
          "output_type": "error",
          "ename": "IndexError",
          "evalue": "ignored",
          "traceback": [
            "\u001b[0;31m---------------------------------------------------------------------------\u001b[0m",
            "\u001b[0;31mIndexError\u001b[0m                                Traceback (most recent call last)",
            "\u001b[0;32m<ipython-input-52-3938389ff704>\u001b[0m in \u001b[0;36m<module>\u001b[0;34m()\u001b[0m\n\u001b[1;32m      1\u001b[0m \u001b[0;32mfor\u001b[0m \u001b[0mi\u001b[0m \u001b[0;32min\u001b[0m \u001b[0mrange\u001b[0m\u001b[0;34m(\u001b[0m\u001b[0mlen\u001b[0m\u001b[0;34m(\u001b[0m\u001b[0ma_mask\u001b[0m\u001b[0;34m)\u001b[0m\u001b[0;34m)\u001b[0m\u001b[0;34m:\u001b[0m\u001b[0;34m\u001b[0m\u001b[0;34m\u001b[0m\u001b[0m\n\u001b[0;32m----> 2\u001b[0;31m   \u001b[0mprint\u001b[0m\u001b[0;34m(\u001b[0m\u001b[0mphoton_m\u001b[0m\u001b[0;34m[\u001b[0m\u001b[0mi\u001b[0m\u001b[0;34m]\u001b[0m\u001b[0;34m)\u001b[0m\u001b[0;34m\u001b[0m\u001b[0;34m\u001b[0m\u001b[0m\n\u001b[0m",
            "\u001b[0;31mIndexError\u001b[0m: index 0 is out of bounds for axis 0 with size 0"
          ]
        }
      ]
    },
    {
      "cell_type": "code",
      "metadata": {
        "id": "XWGdlMfN4T6U"
      },
      "source": [
        "photon_m = mass[a_mask].flatten()\r\n",
        "zboson_m = mass[z_mask].flatten()"
      ],
      "execution_count": null,
      "outputs": []
    },
    {
      "cell_type": "code",
      "metadata": {
        "colab": {
          "base_uri": "https://localhost:8080/",
          "height": 265
        },
        "id": "nRSmoPNM4p2j",
        "outputId": "38e2fa11-ef91-4263-ac21-7381ecdc036a"
      },
      "source": [
        "plt.hist(zboson_m,bins=300,range=(0,300),color='red',histtype='step')\r\n",
        "plt.hist(photon_m,bins=300,range=(0,300),color='blue',histtype='step')\r\n",
        "plt.xlim(0,300)\r\n",
        "plt.show()"
      ],
      "execution_count": null,
      "outputs": [
        {
          "output_type": "display_data",
          "data": {
            "image/png": "[encoded data removed]",
            "text/plain": [
              "<Figure size 432x288 with 1 Axes>"
            ]
          },
          "metadata": {
            "tags": [],
            "needs_background": "light"
          }
        }
      ]
    },
    {
      "cell_type": "code",
      "metadata": {
        "colab": {
          "base_uri": "https://localhost:8080/",
          "height": 265
        },
        "id": "so6oEFce4vTD",
        "outputId": "bcaf5ed7-baa7-4cbf-f2ea-cad42a4ee3c0"
      },
      "source": [
        "plt.hist(photon_pt,bins=300,range=(0,300),color='blue',histtype='step')\r\n",
        "plt.xlim(0,300)\r\n",
        "plt.show()"
      ],
      "execution_count": null,
      "outputs": [
        {
          "output_type": "display_data",
          "data": {
            "image/png": "[encoded data removed]",
            "text/plain": [
              "<Figure size 432x288 with 1 Axes>"
            ]
          },
          "metadata": {
            "tags": [],
            "needs_background": "light"
          }
        }
      ]
    },
    {
      "cell_type": "code",
      "metadata": {
        "id": "CvK82s6j5f5a"
      },
      "source": [
        ""
      ],
      "execution_count": null,
      "outputs": []
    }
  ]
}