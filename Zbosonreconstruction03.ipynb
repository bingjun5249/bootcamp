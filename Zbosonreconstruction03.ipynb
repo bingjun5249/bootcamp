{
  "nbformat": 4,
  "nbformat_minor": 0,
  "metadata": {
    "colab": {
      "name": "bootcampLecture03.ipynb",
      "provenance": [],
      "collapsed_sections": [],
      "mount_file_id": "1GWbnkFlOc8nV50G1jj1bTbWXLIDIeCv2",
      "authorship_tag": "ABX9TyM7xv94XIE5EHwyF7Rz+qfn",
      "include_colab_link": true
    },
    "kernelspec": {
      "name": "python3",
      "display_name": "Python 3"
    }
  },
  "cells": [
    {
      "cell_type": "markdown",
      "metadata": {
        "id": "view-in-github",
        "colab_type": "text"
      },
      "source": [
        "<a href=\"https://colab.research.google.com/github/bingjun5249/bootcamp/blob/main/Zbosonreconstruction03.ipynb\" target=\"_parent\"><img src=\"https://colab.research.google.com/assets/colab-badge.svg\" alt=\"Open In Colab\"/></a>"
      ]
    },
    {
      "cell_type": "code",
      "metadata": {
        "colab": {
          "base_uri": "https://localhost:8080/"
        },
        "id": "1eTp9JDsaOAE",
        "outputId": "4ac11b24-79c9-4b76-c773-b178500bcdad"
      },
      "source": [
        "!pip install uproot3\n",
        "!pip install uproot_methods\n",
        "!pip install mplhep"
      ],
      "execution_count": null,
      "outputs": [
        {
          "output_type": "stream",
          "text": [
            "Collecting uproot3\n",
            "\u001b[?25l  Downloading https://files.pythonhosted.org/packages/9c/69/d893c6eba0dd0d8f82d841d4b85b6e63c52a1b472aec7cf7ae0efedf5a92/uproot3-3.14.4-py3-none-any.whl (117kB)\n",
            "\r\u001b[K     |██▉                             | 10kB 10.0MB/s eta 0:00:01\r\u001b[K     |█████▋                          | 20kB 15.4MB/s eta 0:00:01\r\u001b[K     |████████▍                       | 30kB 13.9MB/s eta 0:00:01\r\u001b[K     |███████████▏                    | 40kB 16.5MB/s eta 0:00:01\r\u001b[K     |██████████████                  | 51kB 18.7MB/s eta 0:00:01\r\u001b[K     |████████████████▊               | 61kB 13.6MB/s eta 0:00:01\r\u001b[K     |███████████████████▌            | 71kB 14.3MB/s eta 0:00:01\r\u001b[K     |██████████████████████▎         | 81kB 14.2MB/s eta 0:00:01\r\u001b[K     |█████████████████████████       | 92kB 13.2MB/s eta 0:00:01\r\u001b[K     |███████████████████████████▉    | 102kB 13.4MB/s eta 0:00:01\r\u001b[K     |██████████████████████████████▊ | 112kB 13.4MB/s eta 0:00:01\r\u001b[K     |████████████████████████████████| 122kB 13.4MB/s \n",
            "\u001b[?25hRequirement already satisfied: numpy>=1.13.1 in /usr/local/lib/python3.7/dist-packages (from uproot3) (1.19.5)\n",
            "Collecting uproot3-methods\n",
            "  Downloading https://files.pythonhosted.org/packages/3f/57/598207abeb64bf3e0af3fdc19217e56936b6bebabaac6ee270fb151790ce/uproot3_methods-0.10.1-py3-none-any.whl\n",
            "Collecting awkward0\n",
            "\u001b[?25l  Downloading https://files.pythonhosted.org/packages/9a/b3/376b258ea021eed2c9bdaa1011e0f7b25365157de472d9fae8a2443d9ff5/awkward0-0.15.5-py3-none-any.whl (87kB)\n",
            "\u001b[K     |████████████████████████████████| 92kB 9.7MB/s \n",
            "\u001b[?25hRequirement already satisfied: cachetools in /usr/local/lib/python3.7/dist-packages (from uproot3) (4.2.1)\n",
            "Installing collected packages: awkward0, uproot3-methods, uproot3\n",
            "Successfully installed awkward0-0.15.5 uproot3-3.14.4 uproot3-methods-0.10.1\n",
            "Collecting uproot_methods\n",
            "  Downloading https://files.pythonhosted.org/packages/b8/30/adff74a02641901dfaad01e8ad66abcf43e94fc72661ef1ee4e55a5162b5/uproot_methods-0.9.2-py3-none-any.whl\n",
            "Requirement already satisfied: numpy>=1.13.1 in /usr/local/lib/python3.7/dist-packages (from uproot_methods) (1.19.5)\n",
            "Collecting awkward<1.0.0\n",
            "\u001b[?25l  Downloading https://files.pythonhosted.org/packages/4b/ca/322dd25b102b03a0d8fefba037358a716e7ba2117b65839479071445a617/awkward-0.14.0-py2.py3-none-any.whl (87kB)\n",
            "\u001b[K     |████████████████████████████████| 92kB 6.3MB/s \n",
            "\u001b[?25hInstalling collected packages: awkward, uproot-methods\n",
            "Successfully installed awkward-0.14.0 uproot-methods-0.9.2\n",
            "Collecting mplhep\n",
            "\u001b[?25l  Downloading https://files.pythonhosted.org/packages/98/48/6f0d428f371c9279065a90be953d5b35ed220d060d00ad06fe0d23fb6c75/mplhep-0.2.18-py3-none-any.whl (5.4MB)\n",
            "\u001b[K     |████████████████████████████████| 5.5MB 9.8MB/s \n",
            "\u001b[?25hRequirement already satisfied: numpy>=1.16.0 in /usr/local/lib/python3.7/dist-packages (from mplhep) (1.19.5)\n",
            "Requirement already satisfied: matplotlib>=3.1 in /usr/local/lib/python3.7/dist-packages (from mplhep) (3.2.2)\n",
            "Requirement already satisfied: packaging in /usr/local/lib/python3.7/dist-packages (from mplhep) (20.9)\n",
            "Requirement already satisfied: requests~=2.21 in /usr/local/lib/python3.7/dist-packages (from mplhep) (2.23.0)\n",
            "Requirement already satisfied: scipy>=1.1.0 in /usr/local/lib/python3.7/dist-packages (from mplhep) (1.4.1)\n",
            "Requirement already satisfied: python-dateutil>=2.1 in /usr/local/lib/python3.7/dist-packages (from matplotlib>=3.1->mplhep) (2.8.1)\n",
            "Requirement already satisfied: cycler>=0.10 in /usr/local/lib/python3.7/dist-packages (from matplotlib>=3.1->mplhep) (0.10.0)\n",
            "Requirement already satisfied: pyparsing!=2.0.4,!=2.1.2,!=2.1.6,>=2.0.1 in /usr/local/lib/python3.7/dist-packages (from matplotlib>=3.1->mplhep) (2.4.7)\n",
            "Requirement already satisfied: kiwisolver>=1.0.1 in /usr/local/lib/python3.7/dist-packages (from matplotlib>=3.1->mplhep) (1.3.1)\n",
            "Requirement already satisfied: certifi>=2017.4.17 in /usr/local/lib/python3.7/dist-packages (from requests~=2.21->mplhep) (2020.12.5)\n",
            "Requirement already satisfied: urllib3!=1.25.0,!=1.25.1,<1.26,>=1.21.1 in /usr/local/lib/python3.7/dist-packages (from requests~=2.21->mplhep) (1.24.3)\n",
            "Requirement already satisfied: chardet<4,>=3.0.2 in /usr/local/lib/python3.7/dist-packages (from requests~=2.21->mplhep) (3.0.4)\n",
            "Requirement already satisfied: idna<3,>=2.5 in /usr/local/lib/python3.7/dist-packages (from requests~=2.21->mplhep) (2.10)\n",
            "Requirement already satisfied: six>=1.5 in /usr/local/lib/python3.7/dist-packages (from python-dateutil>=2.1->matplotlib>=3.1->mplhep) (1.15.0)\n",
            "Installing collected packages: mplhep\n",
            "Successfully installed mplhep-0.2.18\n"
          ],
          "name": "stdout"
        }
      ]
    },
    {
      "cell_type": "code",
      "metadata": {
        "id": "rNynx0OZaZ4P"
      },
      "source": [
        "import uproot3 as ROOT\n",
        "import uproot_methods as ROOT_methods\n",
        "import numpy as np\n",
        "import matplotlib.pyplot as plt\n",
        "from matplotlib import rc\n",
        "from matplotlib import font_manager\n",
        "import mplhep as hep"
      ],
      "execution_count": null,
      "outputs": []
    },
    {
      "cell_type": "code",
      "metadata": {
        "id": "_2VUxDVkak5l"
      },
      "source": [
        "# tree 읽어오기/젠레벨 샘플\n",
        "tree = ROOT.open(\"drive/MyDrive/rootfiles/p p > l+ l-/unweighted_events1.root\")[\"LHEF\"]"
      ],
      "execution_count": null,
      "outputs": []
    },
    {
      "cell_type": "code",
      "metadata": {
        "id": "M4upD9Ekavvk"
      },
      "source": [
        "# pt, eta, phi 가져오기\n",
        "pt = tree[\"Particle.PT\"].array()\n",
        "eta = tree[\"Particle.Eta\"].array()\n",
        "phi = tree[\"Particle.Phi\"].array()\n",
        "pid = tree[\"Particle.PID\"].array()\n",
        "status = tree[\"Particle.Status\"].array()\n",
        "\n",
        "# Z보존의 질량을 알고싶으니까 Particle.M을 가져오자\n",
        "mass = tree[\"Particle.M\"].array()"
      ],
      "execution_count": null,
      "outputs": []
    },
    {
      "cell_type": "code",
      "metadata": {
        "id": "oS4PMD2Waynk"
      },
      "source": [
        "# 전자와 양전자를 걸러주는 마스크\n",
        "nege = (pid == 11) & (status == 1)\n",
        "pose = (pid == -11) & (status == 1)"
      ],
      "execution_count": null,
      "outputs": []
    },
    {
      "cell_type": "code",
      "metadata": {
        "id": "xyh5FvcxbFx0"
      },
      "source": [
        "# 전자 마스크\n",
        "pt_nege = pt[nege]\n",
        "eta_nege = eta[nege]\n",
        "phi_nege = phi[nege]"
      ],
      "execution_count": null,
      "outputs": []
    },
    {
      "cell_type": "code",
      "metadata": {
        "id": "hfjM3TmsbMyb"
      },
      "source": [
        "# 양전자 마스크\n",
        "pt_pose = pt[pose]\n",
        "eta_pose = eta[pose]\n",
        "phi_pose = phi[pose]\n",
        "pt_pose = pt[pose]\n",
        "eta_pose = eta[pose]\n",
        "phi_pose = phi[pose]"
      ],
      "execution_count": null,
      "outputs": []
    },
    {
      "cell_type": "code",
      "metadata": {
        "id": "PFgZRbijbVaz"
      },
      "source": [
        "dielec_mass = []\n",
        "for i in range(len(pt)):\n",
        "  if pt_nege.counts[i] == 1:\n",
        "    if pt_pose.counts[i] == 1:\n",
        "      dielec_mass.append(np.sqrt(2*pt_pose[i]*pt_nege[i]*(np.cosh(eta_pose[i] - eta_nege[i]) - np.cos(phi_pose[i] - phi_nege[i]))))"
      ],
      "execution_count": null,
      "outputs": []
    },
    {
      "cell_type": "code",
      "metadata": {
        "id": "aLyxiCRZeRdI"
      },
      "source": [
        "dielec_mass = np.array(dielec_mass).flatten()"
      ],
      "execution_count": null,
      "outputs": []
    },
    {
      "cell_type": "code",
      "metadata": {
        "id": "m11Jvs0KeWkd"
      },
      "source": [
        "zmask = (pid == 23)\n",
        "z_mass = mass[zmask].flatten()"
      ],
      "execution_count": null,
      "outputs": []
    },
    {
      "cell_type": "code",
      "metadata": {
        "colab": {
          "base_uri": "https://localhost:8080/",
          "height": 279
        },
        "id": "tZc0snWcecQd",
        "outputId": "bced05dc-1348-4627-d117-8c83d448474e"
      },
      "source": [
        "plt.hist(dielec_mass,bins=150,range=(0,150),color='blue',histtype='step',label='dielec mass')\n",
        "plt.hist(z_mass,bins=150,range=(0,150),color='red',histtype='step',label='Z boson mass')\n",
        "plt.xlim(0,150)\n",
        "plt.xlabel(\"M [GeV]\")\n",
        "plt.ylabel(\"Events\")\n",
        "plt.legend()\n",
        "plt.show()"
      ],
      "execution_count": null,
      "outputs": [
        {
          "output_type": "display_data",
          "data": {
            "image/png": "[encoded data removed]",
            "text/plain": [
              "<Figure size 432x288 with 1 Axes>"
            ]
          },
          "metadata": {
            "tags": [],
            "needs_background": "light"
          }
        }
      ]
    },
    {
      "cell_type": "code",
      "metadata": {
        "id": "dH0fNfGmesL3",
        "colab": {
          "base_uri": "https://localhost:8080/",
          "height": 172
        },
        "outputId": "c159e12c-6e69-4c5f-b931-e04bc0f2f275"
      },
      "source": [
        "print(len(dilepton_mass))"
      ],
      "execution_count": null,
      "outputs": [
        {
          "output_type": "error",
          "ename": "NameError",
          "evalue": "ignored",
          "traceback": [
            "\u001b[0;31m---------------------------------------------------------------------------\u001b[0m",
            "\u001b[0;31mNameError\u001b[0m                                 Traceback (most recent call last)",
            "\u001b[0;32m<ipython-input-13-d9d0aac581f7>\u001b[0m in \u001b[0;36m<module>\u001b[0;34m()\u001b[0m\n\u001b[0;32m----> 1\u001b[0;31m \u001b[0mprint\u001b[0m\u001b[0;34m(\u001b[0m\u001b[0mlen\u001b[0m\u001b[0;34m(\u001b[0m\u001b[0mdilepton_mass\u001b[0m\u001b[0;34m)\u001b[0m\u001b[0;34m)\u001b[0m\u001b[0;34m\u001b[0m\u001b[0;34m\u001b[0m\u001b[0m\n\u001b[0m",
            "\u001b[0;31mNameError\u001b[0m: name 'dilepton_mass' is not defined"
          ]
        }
      ]
    },
    {
      "cell_type": "code",
      "metadata": {
        "id": "dvCIYGI1jGbI"
      },
      "source": [
        "muon = (pid == 13) & (status == 1)\n",
        "amuon = (pid == -13) & (status == 1)"
      ],
      "execution_count": null,
      "outputs": []
    },
    {
      "cell_type": "code",
      "metadata": {
        "id": "1UkjFvmXlB5o"
      },
      "source": [
        "pt_muon = pt[muon]\n",
        "eta_muon = eta[muon]\n",
        "phi_muon = phi[muon]"
      ],
      "execution_count": null,
      "outputs": []
    },
    {
      "cell_type": "code",
      "metadata": {
        "id": "mXtIANculM3-"
      },
      "source": [
        "pt_amuon = pt[amuon]\n",
        "eta_amuon = eta[amuon]\n",
        "phi_amuon = phi[amuon]"
      ],
      "execution_count": null,
      "outputs": []
    },
    {
      "cell_type": "code",
      "metadata": {
        "id": "xIb63HpKlVXE"
      },
      "source": [
        "dimuon_mass = []\n",
        "for i in range(len(pt)):\n",
        "  if pt_muon.counts[i] == 1:\n",
        "    if pt_amuon.counts[i] == 1:\n",
        "      dimuon_mass.append(np.sqrt(2*pt_amuon[i]*pt_muon[i]*(np.cosh(eta_amuon[i] - eta_muon[i]) - np.cos(phi_amuon[i] - phi_muon[i]))))"
      ],
      "execution_count": null,
      "outputs": []
    },
    {
      "cell_type": "code",
      "metadata": {
        "id": "s87GxGYNlvHU"
      },
      "source": [
        "dimuon_mass = np.array(dimuon_mass).flatten()"
      ],
      "execution_count": null,
      "outputs": []
    },
    {
      "cell_type": "code",
      "metadata": {
        "colab": {
          "base_uri": "https://localhost:8080/",
          "height": 279
        },
        "id": "5hu20pU8l3Kz",
        "outputId": "adb70bfc-1bbc-4c3a-afee-22d268beffcf"
      },
      "source": [
        "plt.hist(dimuon_mass,bins=150,range=(0,150),color='c',histtype='step',label='dimuon mass')\n",
        "plt.hist(z_mass,bins=150,range=(0,150),color='red',histtype='step',label='Z boson mass')\n",
        "plt.xlim(0,150)\n",
        "plt.xlabel(\"M [GeV]\")\n",
        "plt.ylabel(\"Events\")\n",
        "plt.legend()\n",
        "plt.show()"
      ],
      "execution_count": null,
      "outputs": [
        {
          "output_type": "display_data",
          "data": {
            "image/png": "[encoded data removed]",
            "text/plain": [
              "<Figure size 432x288 with 1 Axes>"
            ]
          },
          "metadata": {
            "tags": [],
            "needs_background": "light"
          }
        }
      ]
    },
    {
      "cell_type": "code",
      "metadata": {
        "id": "JDZNzbSDqVG3"
      },
      "source": [
        "'''\n",
        "dd = np.array(dielec_mass).flatten()\n",
        "ee = np.array(dimuon_mass).flatten()\n",
        "print(dd)\n",
        "print(ee)\n",
        "'''"
      ],
      "execution_count": null,
      "outputs": []
    },
    {
      "cell_type": "code",
      "metadata": {
        "id": "CkmORXTCqhbW"
      },
      "source": [
        "'''\n",
        "ff = np.concatenate((dd,ee),axis=0)\n",
        "print(len(ff))\n",
        "plt.hist(ff)\n",
        "plt.hist(z_mass)\n",
        "plt.show()\n",
        "'''"
      ],
      "execution_count": null,
      "outputs": []
    },
    {
      "cell_type": "code",
      "metadata": {
        "id": "w_K2RQmjmSdD"
      },
      "source": [
        "dilepton_mass = np.concatenate((dielec_mass,dimuon_mass),axis=0)"
      ],
      "execution_count": null,
      "outputs": []
    },
    {
      "cell_type": "code",
      "metadata": {
        "colab": {
          "base_uri": "https://localhost:8080/",
          "height": 279
        },
        "id": "r7LdDjrKpUsi",
        "outputId": "909749c3-6262-48de-d570-8f8f55c84e70"
      },
      "source": [
        "plt.hist(dilepton_mass,bins=150,range=(0,150),color='purple',histtype='step',label='dilepton mass')\n",
        "plt.hist(z_mass,bins=150,range=(0,150),color='red',histtype='step',label='Z boson mass')\n",
        "plt.xlim(0,150)\n",
        "plt.xlabel(\"M [GeV]\")\n",
        "plt.ylabel(\"Events\")\n",
        "plt.legend()\n",
        "plt.show()"
      ],
      "execution_count": null,
      "outputs": [
        {
          "output_type": "display_data",
          "data": {
            "image/png": "[encoded data removed]",
            "text/plain": [
              "<Figure size 432x288 with 1 Axes>"
            ]
          },
          "metadata": {
            "tags": [],
            "needs_background": "light"
          }
        }
      ]
    },
    {
      "cell_type": "code",
      "metadata": {
        "id": "ddtVjpITtVhy"
      },
      "source": [
        ""
      ],
      "execution_count": null,
      "outputs": []
    }
  ]
}