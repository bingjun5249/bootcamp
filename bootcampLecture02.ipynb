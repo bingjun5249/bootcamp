{
  "nbformat": 4,
  "nbformat_minor": 0,
  "metadata": {
    "colab": {
      "name": "bootcampLecture02.ipynb",
      "provenance": [],
      "collapsed_sections": [],
      "mount_file_id": "18FBUzfFz5w88dShro7rs-JuLC-2kHpcd",
      "authorship_tag": "ABX9TyN/pmesgfr6YTt+4OmJuw5/",
      "include_colab_link": true
    },
    "kernelspec": {
      "name": "python3",
      "display_name": "Python 3"
    }
  },
  "cells": [
    {
      "cell_type": "markdown",
      "metadata": {
        "id": "view-in-github",
        "colab_type": "text"
      },
      "source": [
        "<a href=\"https://colab.research.google.com/github/bingjun5249/bootcamp/blob/main/bootcampLecture02.ipynb\" target=\"_parent\"><img src=\"https://colab.research.google.com/assets/colab-badge.svg\" alt=\"Open In Colab\"/></a>"
      ]
    },
    {
      "cell_type": "code",
      "metadata": {
        "colab": {
          "base_uri": "https://localhost:8080/"
        },
        "id": "00EK_selKtHY",
        "outputId": "0d31fa0d-6353-49aa-a8c3-1fc756c979f5"
      },
      "source": [
        "!pip install uproot3"
      ],
      "execution_count": 2,
      "outputs": [
        {
          "output_type": "stream",
          "text": [
            "Collecting uproot3\n",
            "\u001b[?25l  Downloading https://files.pythonhosted.org/packages/9c/69/d893c6eba0dd0d8f82d841d4b85b6e63c52a1b472aec7cf7ae0efedf5a92/uproot3-3.14.4-py3-none-any.whl (117kB)\n",
            "\u001b[K     |████████████████████████████████| 122kB 5.4MB/s \n",
            "\u001b[?25hCollecting awkward0\n",
            "\u001b[?25l  Downloading https://files.pythonhosted.org/packages/9a/b3/376b258ea021eed2c9bdaa1011e0f7b25365157de472d9fae8a2443d9ff5/awkward0-0.15.5-py3-none-any.whl (87kB)\n",
            "\u001b[K     |████████████████████████████████| 92kB 4.2MB/s \n",
            "\u001b[?25hRequirement already satisfied: cachetools in /usr/local/lib/python3.7/dist-packages (from uproot3) (4.2.1)\n",
            "Collecting uproot3-methods\n",
            "  Downloading https://files.pythonhosted.org/packages/b7/bc/0cc6e815361218923dc27e8f511036d6d96ab366ea25994a89ac9ac9ba6f/uproot3_methods-0.10.0-py3-none-any.whl\n",
            "Requirement already satisfied: numpy>=1.13.1 in /usr/local/lib/python3.7/dist-packages (from uproot3) (1.19.5)\n",
            "Installing collected packages: awkward0, uproot3-methods, uproot3\n",
            "Successfully installed awkward0-0.15.5 uproot3-3.14.4 uproot3-methods-0.10.0\n"
          ],
          "name": "stdout"
        }
      ]
    },
    {
      "cell_type": "code",
      "metadata": {
        "id": "iYt6StPbK1uz"
      },
      "source": [
        "import uproot3 as ROOT\r\n",
        "import uproot3_methods as ROOT_methods \r\n",
        "import numpy as np\r\n",
        "import awkward0 as ak\r\n",
        "import matplotlib.pyplot as plt\r\n",
        "from matplotlib import rc\r\n",
        "from matplotlib import font_manager\r\n"
      ],
      "execution_count": 3,
      "outputs": []
    },
    {
      "cell_type": "code",
      "metadata": {
        "id": "b5RL9VWkK53p"
      },
      "source": [
        "tree = ROOT.open(\"drive/MyDrive/rootfiles/unweighted_events.root\")[\"LHEF\"]"
      ],
      "execution_count": 4,
      "outputs": []
    },
    {
      "cell_type": "code",
      "metadata": {
        "id": "p3rj3-lfLR1R"
      },
      "source": [
        "px = tree[\"Particle.Px\"].array()\r\n",
        "py = tree[\"Particle.Py\"].array()\r\n",
        "pz = tree[\"Particle.Pz\"].array()\r\n",
        "en = tree[\"Particle.E\"].array()\r\n",
        "pid = tree[\"Particle.PID\"].array()\r\n",
        "status = tree[\"Particle.Status\"].array()\r\n"
      ],
      "execution_count": 5,
      "outputs": []
    },
    {
      "cell_type": "code",
      "metadata": {
        "id": "wS8L32fMLaB5"
      },
      "source": [
        "# mask for electron and positron\r\n",
        "nege = (pid == 11) & (status == 1)\r\n",
        "pose = (pid == -11) & (status == 1)"
      ],
      "execution_count": 23,
      "outputs": []
    },
    {
      "cell_type": "code",
      "metadata": {
        "id": "kJfzami_MR3a"
      },
      "source": [
        "# electron px, py, pz, E\r\n",
        "px_nege = px[nege]\r\n",
        "py_nege = py[nege]\r\n",
        "pz_nege = pz[nege]\r\n",
        "en_nege = en[nege]"
      ],
      "execution_count": 24,
      "outputs": []
    },
    {
      "cell_type": "code",
      "metadata": {
        "id": "aBhOQy-rLldQ"
      },
      "source": [
        "# positron px, py, pz, E\r\n",
        "px_pose = px[pose]\r\n",
        "py_pose = py[pose]\r\n",
        "pz_pose = pz[pose]\r\n",
        "en_pose = en[pose]"
      ],
      "execution_count": 25,
      "outputs": []
    },
    {
      "cell_type": "code",
      "metadata": {
        "id": "fpO3izjbLvk4"
      },
      "source": [
        "# To make Lorentz vectors, we can use the uproot_methods module\r\n",
        "vec_nege = ROOT_methods.TLorentzVectorArray.from_cartesian(px_nege,py_nege,pz_nege,en_nege)\r\n",
        "vec_pose = ROOT_methods.TLorentzVectorArray.from_cartesian(px_pose,py_pose,pz_pose,en_pose)"
      ],
      "execution_count": 26,
      "outputs": []
    },
    {
      "cell_type": "code",
      "metadata": {
        "id": "uceJWD78MMMX"
      },
      "source": [
        "# calculation\r\n",
        "dilepton_mass = []\r\n",
        "for i in range(len(px)):\r\n",
        "  if px_nege.counts[i] == 0:\r\n",
        "    continue\r\n",
        "  elif px_pose.counts[i] == 0:\r\n",
        "    continue\r\n",
        "  else:\r\n",
        "    dilepton_mass.append((vec_nege[i,0] + vec_pose[i,0]).mass)"
      ],
      "execution_count": 27,
      "outputs": []
    },
    {
      "cell_type": "code",
      "metadata": {
        "colab": {
          "base_uri": "https://localhost:8080/",
          "height": 265
        },
        "id": "a1ufXm-LMypA",
        "outputId": "99f65557-e494-4eab-9b60-8ba2ccb956b9"
      },
      "source": [
        "# Draw histograms\r\n",
        "plt.hist(dilepton_mass,bins=150,range=(0,150),color='blue',histtype='step')\r\n",
        "plt.xlim(0,150)\r\n",
        "plt.show()"
      ],
      "execution_count": 28,
      "outputs": [
        {
          "output_type": "display_data",
          "data": {
            "image/png": "[encoded data removed]",
            "text/plain": [
              "<Figure size 432x288 with 1 Axes>"
            ]
          },
          "metadata": {
            "tags": [],
            "needs_background": "light"
          }
        }
      ]
    },
    {
      "cell_type": "code",
      "metadata": {
        "id": "lcFZdea0M-Ve",
        "colab": {
          "base_uri": "https://localhost:8080/"
        },
        "outputId": "85009e97-cbd8-4fc6-f66f-13115c3dc094"
      },
      "source": [
        "# Q1\r\n",
        "px_nege"
      ],
      "execution_count": 29,
      "outputs": [
        {
          "output_type": "execute_result",
          "data": {
            "text/plain": [
              "<JaggedArray [[21.817482672] [14.214499687] [30.159972427] ... [] [] [3.2613954829]] at 0x7fcc005eba50>"
            ]
          },
          "metadata": {
            "tags": []
          },
          "execution_count": 29
        }
      ]
    },
    {
      "cell_type": "code",
      "metadata": {
        "colab": {
          "base_uri": "https://localhost:8080/"
        },
        "id": "HU59gMOAjLJ6",
        "outputId": "e2733053-1489-4996-bd75-5634fab19ff8"
      },
      "source": [
        "px_pose"
      ],
      "execution_count": 30,
      "outputs": [
        {
          "output_type": "execute_result",
          "data": {
            "text/plain": [
              "<JaggedArray [[-21.817482672] [-14.214499687] [-30.159972427] ... [] [] [-3.2613954829]] at 0x7fcc005efd10>"
            ]
          },
          "metadata": {
            "tags": []
          },
          "execution_count": 30
        }
      ]
    },
    {
      "cell_type": "code",
      "metadata": {
        "colab": {
          "base_uri": "https://localhost:8080/"
        },
        "id": "QwTLwp6TjbHf",
        "outputId": "fadb7b0f-843a-4f17-d08f-6d3fe479594b"
      },
      "source": [
        "# Q2\r\n",
        "vec_nege"
      ],
      "execution_count": 31,
      "outputs": [
        {
          "output_type": "execute_result",
          "data": {
            "text/plain": [
              "<JaggedArrayMethods [[TLorentzVector(x=21.817, y=29.064, z=-94.466, t=101.21)] [TLorentzVector(x=14.214, y=-3.7098, z=16.052, t=21.76)] [TLorentzVector(x=30.16, y=-6.2465, z=-3.9209, t=31.049)] ... [] [] [TLorentzVector(x=3.2614, y=-36.518, z=-16.915, t=40.377)]] at 0x7fcc005efcd0>"
            ]
          },
          "metadata": {
            "tags": []
          },
          "execution_count": 31
        }
      ]
    },
    {
      "cell_type": "code",
      "metadata": {
        "colab": {
          "base_uri": "https://localhost:8080/"
        },
        "id": "5LBDnKfpj22U",
        "outputId": "78db7c2d-6297-4a0f-f39c-c17b553d9575"
      },
      "source": [
        "vec_pose"
      ],
      "execution_count": 32,
      "outputs": [
        {
          "output_type": "execute_result",
          "data": {
            "text/plain": [
              "<JaggedArrayMethods [[TLorentzVector(x=-21.817, y=-29.064, z=-9.2896, t=37.51)] [TLorentzVector(x=-14.214, y=3.7098, z=33.498, t=36.578)] [TLorentzVector(x=-30.16, y=6.2465, z=89.57, t=94.717)] ... [] [] [TLorentzVector(x=-3.2614, y=36.518, z=-51.458, t=63.184)]] at 0x7fcc005fa110>"
            ]
          },
          "metadata": {
            "tags": []
          },
          "execution_count": 32
        }
      ]
    },
    {
      "cell_type": "code",
      "metadata": {
        "id": "GNJcswLXj9Nn"
      },
      "source": [
        "# Q4 muon-muon\r\n",
        "nege_m = (pid == 13) & (status == 1)\r\n",
        "pose_m = (pid == -13) & (status == 1)"
      ],
      "execution_count": 33,
      "outputs": []
    },
    {
      "cell_type": "code",
      "metadata": {
        "id": "42OGLwi6VGiJ"
      },
      "source": [
        "px_nege_m = px[nege_m]\r\n",
        "py_nege_m = py[nege_m]\r\n",
        "pz_nege_m = pz[nege_m]\r\n",
        "en_nege_m = en[nege_m]"
      ],
      "execution_count": 34,
      "outputs": []
    },
    {
      "cell_type": "code",
      "metadata": {
        "id": "z0YNyIXEVSrV"
      },
      "source": [
        "px_pose_m = px[pose_m]\r\n",
        "py_pose_m = py[pose_m]\r\n",
        "pz_pose_m = pz[pose_m]\r\n",
        "en_pose_m = en[pose_m]"
      ],
      "execution_count": 35,
      "outputs": []
    },
    {
      "cell_type": "code",
      "metadata": {
        "id": "sNuwq5IAVY2l"
      },
      "source": [
        "vec_nege_m = ROOT_methods.TLorentzVectorArray.from_cartesian(px_nege_m,py_nege_m,pz_nege_m,en_nege_m)\r\n",
        "vec_pose_m = ROOT_methods.TLorentzVectorArray.from_cartesian(px_pose_m,py_pose_m,pz_pose_m,en_pose_m)"
      ],
      "execution_count": 36,
      "outputs": []
    },
    {
      "cell_type": "code",
      "metadata": {
        "id": "yNddLaszViGN"
      },
      "source": [
        "muon_mass = []\r\n",
        "for i in range(len(px)):\r\n",
        "  if px_nege_m.counts[i] == 0:\r\n",
        "    continue\r\n",
        "  elif px_pose_m.counts[i] == 0:\r\n",
        "    continue\r\n",
        "  else:\r\n",
        "    muon_mass.append((vec_nege_m[i,0] + vec_pose_m[i,0]).mass)"
      ],
      "execution_count": 37,
      "outputs": []
    },
    {
      "cell_type": "code",
      "metadata": {
        "colab": {
          "base_uri": "https://localhost:8080/",
          "height": 265
        },
        "id": "wsBLNm-xVsYV",
        "outputId": "b2e7faaa-2889-419c-af91-f72e11d413d8"
      },
      "source": [
        "plt.hist(muon_mass,bins=150,range=(0,150),color='red',histtype='step')\r\n",
        "plt.hist(dilepton_mass,bins=150,range=(0,150),color='blue',histtype='step')\r\n",
        "plt.xlim(0,150)\r\n",
        "plt.show()"
      ],
      "execution_count": 40,
      "outputs": [
        {
          "output_type": "display_data",
          "data": {
            "image/png": "[encoded data removed]",
            "text/plain": [
              "<Figure size 432x288 with 1 Axes>"
            ]
          },
          "metadata": {
            "tags": [],
            "needs_background": "light"
          }
        }
      ]
    }
  ]
}