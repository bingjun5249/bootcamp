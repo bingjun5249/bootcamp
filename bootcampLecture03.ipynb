{
  "nbformat": 4,
  "nbformat_minor": 0,
  "metadata": {
    "colab": {
      "name": "bootcampLecture03.ipynb",
      "provenance": [],
      "mount_file_id": "1GWbnkFlOc8nV50G1jj1bTbWXLIDIeCv2",
      "authorship_tag": "ABX9TyPF6fPID3lYk86kr9yqms/5",
      "include_colab_link": true
    },
    "kernelspec": {
      "name": "python3",
      "display_name": "Python 3"
    }
  },
  "cells": [
    {
      "cell_type": "markdown",
      "metadata": {
        "id": "view-in-github",
        "colab_type": "text"
      },
      "source": [
        "<a href=\"https://colab.research.google.com/github/bingjun5249/bootcamp/blob/main/bootcampLecture03.ipynb\" target=\"_parent\"><img src=\"https://colab.research.google.com/assets/colab-badge.svg\" alt=\"Open In Colab\"/></a>"
      ]
    },
    {
      "cell_type": "code",
      "metadata": {
        "colab": {
          "base_uri": "https://localhost:8080/"
        },
        "id": "1eTp9JDsaOAE",
        "outputId": "089b30d3-c776-46b8-ce34-a81df9ff626b"
      },
      "source": [
        "!pip install uproot3\r\n",
        "!pip install uproot_methods\r\n",
        "!pip install mplhep"
      ],
      "execution_count": null,
      "outputs": [
        {
          "output_type": "stream",
          "text": [
            "Collecting uproot3\n",
            "\u001b[?25l  Downloading https://files.pythonhosted.org/packages/9c/69/d893c6eba0dd0d8f82d841d4b85b6e63c52a1b472aec7cf7ae0efedf5a92/uproot3-3.14.4-py3-none-any.whl (117kB)\n",
            "\r\u001b[K     |██▉                             | 10kB 6.7MB/s eta 0:00:01\r\u001b[K     |█████▋                          | 20kB 10.7MB/s eta 0:00:01\r\u001b[K     |████████▍                       | 30kB 8.2MB/s eta 0:00:01\r\u001b[K     |███████████▏                    | 40kB 2.8MB/s eta 0:00:01\r\u001b[K     |██████████████                  | 51kB 3.4MB/s eta 0:00:01\r\u001b[K     |████████████████▊               | 61kB 4.0MB/s eta 0:00:01\r\u001b[K     |███████████████████▌            | 71kB 4.3MB/s eta 0:00:01\r\u001b[K     |██████████████████████▎         | 81kB 4.7MB/s eta 0:00:01\r\u001b[K     |█████████████████████████       | 92kB 5.0MB/s eta 0:00:01\r\u001b[K     |███████████████████████████▉    | 102kB 5.3MB/s eta 0:00:01\r\u001b[K     |██████████████████████████████▊ | 112kB 5.3MB/s eta 0:00:01\r\u001b[K     |████████████████████████████████| 122kB 5.3MB/s \n",
            "\u001b[?25hRequirement already satisfied: cachetools in /usr/local/lib/python3.7/dist-packages (from uproot3) (4.2.1)\n",
            "Collecting uproot3-methods\n",
            "  Downloading https://files.pythonhosted.org/packages/b7/bc/0cc6e815361218923dc27e8f511036d6d96ab366ea25994a89ac9ac9ba6f/uproot3_methods-0.10.0-py3-none-any.whl\n",
            "Collecting awkward0\n",
            "\u001b[?25l  Downloading https://files.pythonhosted.org/packages/9a/b3/376b258ea021eed2c9bdaa1011e0f7b25365157de472d9fae8a2443d9ff5/awkward0-0.15.5-py3-none-any.whl (87kB)\n",
            "\u001b[K     |████████████████████████████████| 92kB 7.8MB/s \n",
            "\u001b[?25hRequirement already satisfied: numpy>=1.13.1 in /usr/local/lib/python3.7/dist-packages (from uproot3) (1.19.5)\n",
            "Installing collected packages: awkward0, uproot3-methods, uproot3\n",
            "Successfully installed awkward0-0.15.5 uproot3-3.14.4 uproot3-methods-0.10.0\n",
            "Collecting uproot_methods\n",
            "  Downloading https://files.pythonhosted.org/packages/b8/30/adff74a02641901dfaad01e8ad66abcf43e94fc72661ef1ee4e55a5162b5/uproot_methods-0.9.2-py3-none-any.whl\n",
            "Collecting awkward<1.0.0\n",
            "\u001b[?25l  Downloading https://files.pythonhosted.org/packages/4b/ca/322dd25b102b03a0d8fefba037358a716e7ba2117b65839479071445a617/awkward-0.14.0-py2.py3-none-any.whl (87kB)\n",
            "\u001b[K     |████████████████████████████████| 92kB 4.4MB/s \n",
            "\u001b[?25hRequirement already satisfied: numpy>=1.13.1 in /usr/local/lib/python3.7/dist-packages (from uproot_methods) (1.19.5)\n",
            "Installing collected packages: awkward, uproot-methods\n",
            "Successfully installed awkward-0.14.0 uproot-methods-0.9.2\n",
            "Collecting mplhep\n",
            "\u001b[?25l  Downloading https://files.pythonhosted.org/packages/ae/82/d767b9d94ef78da4359544712c6ccbe01375abb50ea25ae42f5daf9d7005/mplhep-0.2.16-py3-none-any.whl (5.4MB)\n",
            "\u001b[K     |████████████████████████████████| 5.5MB 3.7MB/s \n",
            "\u001b[?25hRequirement already satisfied: scipy>=1.1.0 in /usr/local/lib/python3.7/dist-packages (from mplhep) (1.4.1)\n",
            "Requirement already satisfied: packaging in /usr/local/lib/python3.7/dist-packages (from mplhep) (20.9)\n",
            "Requirement already satisfied: numpy>=1.16.0 in /usr/local/lib/python3.7/dist-packages (from mplhep) (1.19.5)\n",
            "Requirement already satisfied: matplotlib>=3.1 in /usr/local/lib/python3.7/dist-packages (from mplhep) (3.2.2)\n",
            "Requirement already satisfied: requests~=2.21 in /usr/local/lib/python3.7/dist-packages (from mplhep) (2.23.0)\n",
            "Requirement already satisfied: pyparsing>=2.0.2 in /usr/local/lib/python3.7/dist-packages (from packaging->mplhep) (2.4.7)\n",
            "Requirement already satisfied: cycler>=0.10 in /usr/local/lib/python3.7/dist-packages (from matplotlib>=3.1->mplhep) (0.10.0)\n",
            "Requirement already satisfied: python-dateutil>=2.1 in /usr/local/lib/python3.7/dist-packages (from matplotlib>=3.1->mplhep) (2.8.1)\n",
            "Requirement already satisfied: kiwisolver>=1.0.1 in /usr/local/lib/python3.7/dist-packages (from matplotlib>=3.1->mplhep) (1.3.1)\n",
            "Requirement already satisfied: certifi>=2017.4.17 in /usr/local/lib/python3.7/dist-packages (from requests~=2.21->mplhep) (2020.12.5)\n",
            "Requirement already satisfied: urllib3!=1.25.0,!=1.25.1,<1.26,>=1.21.1 in /usr/local/lib/python3.7/dist-packages (from requests~=2.21->mplhep) (1.24.3)\n",
            "Requirement already satisfied: idna<3,>=2.5 in /usr/local/lib/python3.7/dist-packages (from requests~=2.21->mplhep) (2.10)\n",
            "Requirement already satisfied: chardet<4,>=3.0.2 in /usr/local/lib/python3.7/dist-packages (from requests~=2.21->mplhep) (3.0.4)\n",
            "Requirement already satisfied: six in /usr/local/lib/python3.7/dist-packages (from cycler>=0.10->matplotlib>=3.1->mplhep) (1.15.0)\n",
            "Installing collected packages: mplhep\n",
            "Successfully installed mplhep-0.2.16\n"
          ],
          "name": "stdout"
        }
      ]
    },
    {
      "cell_type": "code",
      "metadata": {
        "id": "rNynx0OZaZ4P"
      },
      "source": [
        "import uproot3 as ROOT\r\n",
        "import uproot_methods as ROOT_methods\r\n",
        "import numpy as np\r\n",
        "import matplotlib.pyplot as plt\r\n",
        "from matplotlib import rc\r\n",
        "from matplotlib import font_manager\r\n",
        "import mplhep as hep"
      ],
      "execution_count": null,
      "outputs": []
    },
    {
      "cell_type": "code",
      "metadata": {
        "id": "_2VUxDVkak5l"
      },
      "source": [
        "tree = ROOT.open(\"drive/MyDrive/rootfiles/unweighted_events.root\")[\"LHEF\"]"
      ],
      "execution_count": null,
      "outputs": []
    },
    {
      "cell_type": "code",
      "metadata": {
        "id": "M4upD9Ekavvk"
      },
      "source": [
        "pt = tree[\"Particle.PT\"].array()\r\n",
        "eta = tree[\"Particle.Eta\"].array()\r\n",
        "phi = tree[\"Particle.Phi\"].array()\r\n",
        "pid = tree[\"Particle.PID\"].array()\r\n",
        "status = tree[\"Particle.Status\"].array()\r\n",
        "\r\n",
        "mass = tree[\"Particle.M\"].array()"
      ],
      "execution_count": null,
      "outputs": []
    },
    {
      "cell_type": "code",
      "metadata": {
        "id": "oS4PMD2Waynk"
      },
      "source": [
        "nege = (pid == 11) & (status == 1)\r\n",
        "pose = (pid == -11) & (status == 1)"
      ],
      "execution_count": null,
      "outputs": []
    },
    {
      "cell_type": "code",
      "metadata": {
        "id": "xyh5FvcxbFx0"
      },
      "source": [
        "pt_nege = pt[nege]\r\n",
        "eta_nege = eta[nege]\r\n",
        "phi_nege = phi[nege]"
      ],
      "execution_count": null,
      "outputs": []
    },
    {
      "cell_type": "code",
      "metadata": {
        "id": "hfjM3TmsbMyb"
      },
      "source": [
        "pt_pose = pt[pose]\r\n",
        "eta_pose = eta[pose]\r\n",
        "phi_pose = phi[pose]"
      ],
      "execution_count": null,
      "outputs": []
    },
    {
      "cell_type": "code",
      "metadata": {
        "id": "PFgZRbijbVaz"
      },
      "source": [
        "dilepton_mass = []\r\n",
        "for i in range(len(pt)):\r\n",
        "  if pt_nege.counts[i] == 1:\r\n",
        "    if pt_pose.counts[i] == 1:\r\n",
        "      dilepton_mass.append(np.sqrt(2*pt_pose[i]*pt_nege[i]*(np.cosh(eta_pose[i] - eta_nege[i] - np.cos(phi_pose[i] - phi_nege[i])))))"
      ],
      "execution_count": null,
      "outputs": []
    },
    {
      "cell_type": "code",
      "metadata": {
        "id": "aLyxiCRZeRdI"
      },
      "source": [
        "dilepton_mass = np.array(dilepton_mass).flatten()"
      ],
      "execution_count": null,
      "outputs": []
    },
    {
      "cell_type": "code",
      "metadata": {
        "id": "m11Jvs0KeWkd"
      },
      "source": [
        "zmask = (pid == 23)\r\n",
        "z_mass = mass[zmask].flatten()"
      ],
      "execution_count": null,
      "outputs": []
    },
    {
      "cell_type": "code",
      "metadata": {
        "colab": {
          "base_uri": "https://localhost:8080/",
          "height": 265
        },
        "id": "tZc0snWcecQd",
        "outputId": "0d8a57ba-32dd-45f4-af49-32e32ac27393"
      },
      "source": [
        "plt.hist(dilepton_mass,bins=150,range=(0,150),color='blue',histtype='step')\r\n",
        "plt.hist(z_mass,bins=150,range=(0,150),color='red',histtype='step')\r\n",
        "plt.xlim(0,150)\r\n",
        "plt.show()"
      ],
      "execution_count": null,
      "outputs": [
        {
          "output_type": "display_data",
          "data": {
            "image/png": "[encoded data removed]",
            "text/plain": [
              "<Figure size 432x288 with 1 Axes>"
            ]
          },
          "metadata": {
            "tags": [],
            "needs_background": "light"
          }
        }
      ]
    },
    {
      "cell_type": "code",
      "metadata": {
        "id": "dH0fNfGmesL3"
      },
      "source": [
        ""
      ],
      "execution_count": null,
      "outputs": []
    }
  ]
}