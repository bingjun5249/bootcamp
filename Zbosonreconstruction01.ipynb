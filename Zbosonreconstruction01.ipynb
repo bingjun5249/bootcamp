{
  "nbformat": 4,
  "nbformat_minor": 0,
  "metadata": {
    "colab": {
      "name": "bootcampLecture01.ipynb",
      "provenance": [],
      "collapsed_sections": [],
      "mount_file_id": "1dl8BTwysNNhNH-bwLynOfVFBU5u6Be0i",
      "authorship_tag": "ABX9TyPu++/fXT2p/LUnoMRxQsMM",
      "include_colab_link": true
    },
    "kernelspec": {
      "name": "python3",
      "display_name": "Python 3"
    }
  },
  "cells": [
    {
      "cell_type": "markdown",
      "metadata": {
        "id": "view-in-github",
        "colab_type": "text"
      },
      "source": [
        "<a href=\"https://colab.research.google.com/github/bingjun5249/bootcamp/blob/main/Zbosonreconstruction01.ipynb\" target=\"_parent\"><img src=\"https://colab.research.google.com/assets/colab-badge.svg\" alt=\"Open In Colab\"/></a>"
      ]
    },
    {
      "cell_type": "code",
      "metadata": {
        "colab": {
          "base_uri": "https://localhost:8080/"
        },
        "id": "Q1CJqDjz9fSy",
        "outputId": "03650731-655f-4cfe-be29-8da148517def"
      },
      "source": [
        "!pip install uproot3"
      ],
      "execution_count": null,
      "outputs": [
        {
          "output_type": "stream",
          "text": [
            "Collecting uproot3\n",
            "\u001b[?25l  Downloading https://files.pythonhosted.org/packages/9c/69/d893c6eba0dd0d8f82d841d4b85b6e63c52a1b472aec7cf7ae0efedf5a92/uproot3-3.14.4-py3-none-any.whl (117kB)\n",
            "\u001b[K     |████████████████████████████████| 122kB 8.7MB/s \n",
            "\u001b[?25hCollecting awkward0\n",
            "\u001b[?25l  Downloading https://files.pythonhosted.org/packages/9a/b3/376b258ea021eed2c9bdaa1011e0f7b25365157de472d9fae8a2443d9ff5/awkward0-0.15.5-py3-none-any.whl (87kB)\n",
            "\u001b[K     |████████████████████████████████| 92kB 6.0MB/s \n",
            "\u001b[?25hRequirement already satisfied: numpy>=1.13.1 in /usr/local/lib/python3.7/dist-packages (from uproot3) (1.19.5)\n",
            "Requirement already satisfied: cachetools in /usr/local/lib/python3.7/dist-packages (from uproot3) (4.2.1)\n",
            "Collecting uproot3-methods\n",
            "  Downloading https://files.pythonhosted.org/packages/3f/57/598207abeb64bf3e0af3fdc19217e56936b6bebabaac6ee270fb151790ce/uproot3_methods-0.10.1-py3-none-any.whl\n",
            "Installing collected packages: awkward0, uproot3-methods, uproot3\n",
            "Successfully installed awkward0-0.15.5 uproot3-3.14.4 uproot3-methods-0.10.1\n"
          ],
          "name": "stdout"
        }
      ]
    },
    {
      "cell_type": "code",
      "metadata": {
        "id": "f0IGVRb79mcI"
      },
      "source": [
        "import uproot3 as ROOT\n",
        "import uproot3_methods as ROOT_methods\n",
        "import numpy as np\n",
        "import awkward0 as ak\n",
        "import matplotlib.pyplot as plt\n",
        "from matplotlib import rc\n",
        "from matplotlib import font_manager\n",
        "#import mplhep as hep\n",
        "import sys"
      ],
      "execution_count": null,
      "outputs": []
    },
    {
      "cell_type": "code",
      "metadata": {
        "colab": {
          "base_uri": "https://localhost:8080/"
        },
        "id": "CMN_xLc2-XX1",
        "outputId": "7487c843-bff1-4e30-a772-514d8590cd01"
      },
      "source": [
        "!ls drive/MyDrive/unweighted_events2.root"
      ],
      "execution_count": null,
      "outputs": [
        {
          "output_type": "stream",
          "text": [
            "ls: cannot access 'drive/MyDrive/unweighted_events2.root': No such file or directory\n"
          ],
          "name": "stdout"
        }
      ]
    },
    {
      "cell_type": "code",
      "metadata": {
        "id": "NbFNZ9P297DU"
      },
      "source": [
        "tree = ROOT.open(\"drive/MyDrive/rootfiles/p p > l+ l-/unweighted_events1.root\")[\"LHEF\"]"
      ],
      "execution_count": null,
      "outputs": []
    },
    {
      "cell_type": "code",
      "metadata": {
        "id": "DHr58UaE-Bnt"
      },
      "source": [
        "pt = tree[\"Particle.PT\"].array()\n",
        "pid = tree[\"Particle.PID\"].array()\n",
        "status = tree[\"Particle.Status\"].array()"
      ],
      "execution_count": null,
      "outputs": []
    },
    {
      "cell_type": "code",
      "metadata": {
        "id": "ia2burpp_FRL",
        "colab": {
          "base_uri": "https://localhost:8080/"
        },
        "outputId": "1d9c1bee-dc5a-4ee7-b400-2af02bfa9242"
      },
      "source": [
        "print(pt)\n",
        "print(pid)\n",
        "print(status)"
      ],
      "execution_count": null,
      "outputs": [
        {
          "output_type": "stream",
          "text": [
            "[[0.0 0.0 0.0 36.341984371534785 36.341984371534785] [0.0 0.0 14.690639377406585 14.690639377406585] [0.0 0.0 0.0 30.80004362191049 30.80004362191049] ... [0.0 0.0 11.066012584757207 11.066012584757207] [0.0 0.0 0.0 27.242084690087296 27.242084690087296] [0.0 0.0 0.0 36.66356318762686 36.66356318762686]]\n",
            "[[-2 2 23 -11 11] [-2 2 -11 11] [2 -2 23 -11 11] ... [-2 2 -13 13] [1 -1 23 -13 13] [-1 1 23 -11 11]]\n",
            "[[-1 -1 2 1 1] [-1 -1 1 1] [-1 -1 2 1 1] ... [-1 -1 1 1] [-1 -1 2 1 1] [-1 -1 2 1 1]]\n"
          ],
          "name": "stdout"
        }
      ]
    },
    {
      "cell_type": "code",
      "metadata": {
        "id": "-5v3hqXtZ_me"
      },
      "source": [
        "# mask : 조건식\n",
        "\n",
        "e_mask = ((pid == 11) & (status == 1)) | ((pid == -11) & (status == 1))\n",
        "u_mask = ((pid == 13) & (status == 1)) | ((pid == -13) & (status == 1))"
      ],
      "execution_count": null,
      "outputs": []
    },
    {
      "cell_type": "code",
      "metadata": {
        "colab": {
          "base_uri": "https://localhost:8080/"
        },
        "id": "D8pIgOlkbxjD",
        "outputId": "0a45c10d-50fb-4efc-805c-15fdbc1363ac"
      },
      "source": [
        "print(e_mask)\n",
        "print(u_mask)"
      ],
      "execution_count": null,
      "outputs": [
        {
          "output_type": "stream",
          "text": [
            "[[False False False True True] [False False True True] [False False False True True] ... [False False False False] [False False False False False] [False False False True True]]\n",
            "[[False False False False False] [False False False False] [False False False False False] ... [False False True True] [False False False True True] [False False False False False]]\n"
          ],
          "name": "stdout"
        }
      ]
    },
    {
      "cell_type": "code",
      "metadata": {
        "id": "m1kBGk0Ab0yD"
      },
      "source": [
        "elec_pt = pt[e_mask].flatten()\n",
        "muon_pt = pt[u_mask].flatten()"
      ],
      "execution_count": null,
      "outputs": []
    },
    {
      "cell_type": "code",
      "metadata": {
        "colab": {
          "base_uri": "https://localhost:8080/",
          "height": 265
        },
        "id": "muAiPTucev6W",
        "outputId": "21830554-ebb4-42a8-8cdf-f5473761500e"
      },
      "source": [
        "plt.hist(elec_pt,bins=300,range=(0,300),color='blue',histtype='step')\n",
        "plt.hist(muon_pt,bins=300,range=(0,300),color='red',histtype='step')\n",
        "plt.xlim(0,100)\n",
        "plt.show()"
      ],
      "execution_count": null,
      "outputs": [
        {
          "output_type": "display_data",
          "data": {
            "image/png": "[encoded data removed]",
            "text/plain": [
              "<Figure size 432x288 with 1 Axes>"
            ]
          },
          "metadata": {
            "tags": [],
            "needs_background": "light"
          }
        }
      ]
    },
    {
      "cell_type": "code",
      "metadata": {
        "id": "Be2XqbOSe2Qe"
      },
      "source": [
        "phi = tree[\"Particle.Phi\"].array()"
      ],
      "execution_count": null,
      "outputs": []
    },
    {
      "cell_type": "code",
      "metadata": {
        "id": "iRM_mFygutan"
      },
      "source": [
        "elec_phi = phi[e_mask].flatten()\n",
        "muon_phi = phi[u_mask].flatten()"
      ],
      "execution_count": null,
      "outputs": []
    },
    {
      "cell_type": "code",
      "metadata": {
        "colab": {
          "base_uri": "https://localhost:8080/",
          "height": 269
        },
        "id": "THVjJb4Uu25G",
        "outputId": "c91ed33c-5676-42dd-f21f-735784cc07c1"
      },
      "source": [
        "plt.hist(elec_phi,bins=300,range=(-20,20),color='blue',histtype='step')\n",
        "plt.hist(muon_phi,bins=300,range=(-20,20),color='red',histtype='step')\n",
        "plt.xlim(-5,5)\n",
        "plt.show()"
      ],
      "execution_count": null,
      "outputs": [
        {
          "output_type": "display_data",
          "data": {
            "image/png": "[encoded data removed]",
            "text/plain": [
              "<Figure size 432x288 with 1 Axes>"
            ]
          },
          "metadata": {
            "tags": [],
            "needs_background": "light"
          }
        }
      ]
    },
    {
      "cell_type": "code",
      "metadata": {
        "id": "prmyAlb35QbN"
      },
      "source": [
        "mass = tree[\"Particle.M\"].array()"
      ],
      "execution_count": null,
      "outputs": []
    },
    {
      "cell_type": "code",
      "metadata": {
        "id": "pF6csWc3u6ns"
      },
      "source": [
        "a_mask = (pid == 22)\n",
        "z_mask = (pid == 23)"
      ],
      "execution_count": null,
      "outputs": []
    },
    {
      "cell_type": "code",
      "metadata": {
        "colab": {
          "base_uri": "https://localhost:8080/"
        },
        "id": "92Gzcsng4SrW",
        "outputId": "efc056a0-ddd9-462e-ed2b-7d84bae3ae0e"
      },
      "source": [
        "print(a_mask)\n",
        "print(z_mask)"
      ],
      "execution_count": null,
      "outputs": [
        {
          "output_type": "stream",
          "text": [
            "[[False False False False False] [False False False False] [False False False False False] ... [False False False False] [False False False False False] [False False False False False]]\n",
            "[[False False True False False] [False False False False] [False False True False False] ... [False False False False] [False False True False False] [False False True False False]]\n"
          ],
          "name": "stdout"
        }
      ]
    },
    {
      "cell_type": "code",
      "metadata": {
        "id": "XWGdlMfN4T6U"
      },
      "source": [
        "photon_m = mass[a_mask].flatten()\n",
        "zboson_m = mass[z_mask].flatten()"
      ],
      "execution_count": null,
      "outputs": []
    },
    {
      "cell_type": "code",
      "metadata": {
        "colab": {
          "base_uri": "https://localhost:8080/",
          "height": 190
        },
        "id": "r8tOKnF29WCV",
        "outputId": "6a9ae554-aa6e-4b5b-f6b6-060e5bd4b6f1"
      },
      "source": [
        "for i in range(len(a_mask)):\n",
        "  print(photon_m[i])"
      ],
      "execution_count": null,
      "outputs": [
        {
          "output_type": "error",
          "ename": "IndexError",
          "evalue": "ignored",
          "traceback": [
            "\u001b[0;31m---------------------------------------------------------------------------\u001b[0m",
            "\u001b[0;31mIndexError\u001b[0m                                Traceback (most recent call last)",
            "\u001b[0;32m<ipython-input-18-3938389ff704>\u001b[0m in \u001b[0;36m<module>\u001b[0;34m()\u001b[0m\n\u001b[1;32m      1\u001b[0m \u001b[0;32mfor\u001b[0m \u001b[0mi\u001b[0m \u001b[0;32min\u001b[0m \u001b[0mrange\u001b[0m\u001b[0;34m(\u001b[0m\u001b[0mlen\u001b[0m\u001b[0;34m(\u001b[0m\u001b[0ma_mask\u001b[0m\u001b[0;34m)\u001b[0m\u001b[0;34m)\u001b[0m\u001b[0;34m:\u001b[0m\u001b[0;34m\u001b[0m\u001b[0;34m\u001b[0m\u001b[0m\n\u001b[0;32m----> 2\u001b[0;31m   \u001b[0mprint\u001b[0m\u001b[0;34m(\u001b[0m\u001b[0mphoton_m\u001b[0m\u001b[0;34m[\u001b[0m\u001b[0mi\u001b[0m\u001b[0;34m]\u001b[0m\u001b[0;34m)\u001b[0m\u001b[0;34m\u001b[0m\u001b[0;34m\u001b[0m\u001b[0m\n\u001b[0m",
            "\u001b[0;31mIndexError\u001b[0m: index 0 is out of bounds for axis 0 with size 0"
          ]
        }
      ]
    },
    {
      "cell_type": "code",
      "metadata": {
        "colab": {
          "base_uri": "https://localhost:8080/",
          "height": 265
        },
        "id": "nRSmoPNM4p2j",
        "outputId": "ecec140c-3c24-4b83-fa7a-fd19d9369ac4"
      },
      "source": [
        "plt.hist(zboson_m,bins=300,range=(0,300),color='red',histtype='step')\n",
        "plt.hist(photon_m,bins=300,range=(0,300),color='blue',histtype='step')\n",
        "plt.xlim(0,300)\n",
        "plt.show()"
      ],
      "execution_count": null,
      "outputs": [
        {
          "output_type": "display_data",
          "data": {
            "image/png": "[encoded data removed]",
            "text/plain": [
              "<Figure size 432x288 with 1 Axes>"
            ]
          },
          "metadata": {
            "tags": [],
            "needs_background": "light"
          }
        }
      ]
    },
    {
      "cell_type": "code",
      "metadata": {
        "colab": {
          "base_uri": "https://localhost:8080/",
          "height": 265
        },
        "id": "so6oEFce4vTD",
        "outputId": "6e48bff4-88f0-446d-b809-d1670a8e6439"
      },
      "source": [
        "plt.hist(photon_m,bins=300,range=(0,300),color='blue',histtype='step')\n",
        "plt.xlim(0,300)\n",
        "plt.show()"
      ],
      "execution_count": null,
      "outputs": [
        {
          "output_type": "display_data",
          "data": {
            "image/png": "[encoded data removed]",
            "text/plain": [
              "<Figure size 432x288 with 1 Axes>"
            ]
          },
          "metadata": {
            "tags": [],
            "needs_background": "light"
          }
        }
      ]
    },
    {
      "cell_type": "code",
      "metadata": {
        "id": "CvK82s6j5f5a"
      },
      "source": [
        ""
      ],
      "execution_count": null,
      "outputs": []
    }
  ]
}